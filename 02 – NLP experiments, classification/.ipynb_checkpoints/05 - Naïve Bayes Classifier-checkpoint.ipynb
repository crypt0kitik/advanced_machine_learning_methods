{
 "cells": [
  {
   "cell_type": "code",
   "execution_count": null,
   "metadata": {},
   "outputs": [],
   "source": [
    "# import librariese\n",
    "import os\n",
    "import pandas as pd\n",
    "import numpy as np\n",
    "from sklearn.feature_extraction.text import TfidfVectorizer\n",
    "from sklearn.naive_bayes import MultinomialNB\n",
    "from sklearn.model_selection import train_test_split\n",
    "from sklearn.metrics import accuracy_score\n",
    "import joblib "
   ]
  },
  {
   "cell_type": "code",
   "execution_count": null,
   "metadata": {},
   "outputs": [],
   "source": [
    "# List of survey files to process\n",
    "\n",
    "survey_files = [\n",
    "    \"dataset_bert_token_stopwords_lemmatize.csv\",\n",
    "    \"dataset_sentence_token_stopwords_lemmatize.csv\",\n",
    "    \"dataset_subword_token_stopwords_lemmatize.csv\",\n",
    "    \"dataset_tiktoken_token_stopwords_lemmatize.csv\",\n",
    "    \"dataset_whitespace_token_stopwords_lemmatize.csv\",\n",
    "    \"dataset_word_token_stopwords_lemmatize.csv\",\n",
    "]"
   ]
  },
  {
   "cell_type": "code",
   "execution_count": null,
   "metadata": {},
   "outputs": [],
   "source": [
    "# Define the column containing short responses (modify as needed)\n",
    "text_column = [\"api_usage_pre\", \"tableau_usage_pre\", \"ml_application_pre\", \"persona_explanation_pre\", \n",
    "               \"tools_usage_post\", \"api_usage_post\", \"ml_application_post\", \n",
    "               \"data_collection_explanation_post\", \"data_analysis_explanation_post\", \n",
    "               \"persona_building_explanation_post\", \"evaluation_explanation_post\",]"
   ]
  },
  {
   "cell_type": "code",
   "execution_count": null,
   "metadata": {},
   "outputs": [],
   "source": [
    "# Define the column containing short responses (modify as needed)\n",
    "text_column = \"short_text_response\"  # Replace with actual column name\n",
    "target_column = \"label\"  # Replace with the column containing classification labels"
   ]
  },
  {
   "cell_type": "code",
   "execution_count": null,
   "metadata": {},
   "outputs": [],
   "source": []
  },
  {
   "cell_type": "code",
   "execution_count": null,
   "metadata": {},
   "outputs": [],
   "source": []
  },
  {
   "cell_type": "code",
   "execution_count": null,
   "metadata": {},
   "outputs": [],
   "source": []
  }
 ],
 "metadata": {
  "kernelspec": {
   "display_name": "Python 3",
   "language": "python",
   "name": "python3"
  },
  "language_info": {
   "name": "python",
   "version": "3.9.13"
  }
 },
 "nbformat": 4,
 "nbformat_minor": 2
}
