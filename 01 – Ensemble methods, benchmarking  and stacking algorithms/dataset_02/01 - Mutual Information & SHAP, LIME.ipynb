{
 "cells": [
  {
   "cell_type": "markdown",
   "metadata": {},
   "source": [
    "# 01 - Mutual Information & SHAP, LIME  - comparison\n",
    "\n",
    "\n",
    "Mutual Information\n",
    "Purpose: Identify relationships between features and the target variable.\n",
    "What it does: Mutual Information (MI) measures the amount of information one variable provides about another. It captures both linear and nonlinear dependencies.\n",
    "Features with high MI scores are considered more important for predicting the target.\n",
    "\n",
    "Purpose: Explain model predictions by attributing the contribution of each feature.\n",
    "What it does:SHAP is based on cooperative game theory (Shapley values).\n",
    "It explains the output of a machine learning model by distributing the model’s prediction across its features.\n",
    "\n",
    "LIME (Local Interpretable Model-agnostic Explanations)\n",
    "Purpose: Explain individual predictions of a machine learning model.\n",
    "What it does: LIME explains the prediction for a specific instance by fitting a simple, interpretable model (like linear regression) to approximate the behavior of the complex model around that instance."
   ]
  },
  {
   "cell_type": "code",
   "execution_count": 129,
   "metadata": {},
   "outputs": [],
   "source": [
    "# import libraries\n",
    "import pandas as pd\n",
    "from sklearn.model_selection import train_test_split\n",
    "from sklearn.linear_model import LinearRegression\n",
    "from sklearn.metrics import mean_squared_error, r2_score, mean_absolute_error\n",
    "from sklearn.feature_selection import mutual_info_regression\n",
    "import shap\n",
    "from lime.lime_tabular import LimeTabularExplainer\n",
    "import numpy as np\n",
    "import matplotlib.pyplot as plt\n",
    "import seaborn as sns\n",
    "\n",
    "# pip install shap\n",
    "# pip install lime\n"
   ]
  },
  {
   "cell_type": "code",
   "execution_count": null,
   "metadata": {},
   "outputs": [],
   "source": [
    "\n",
    "\n",
    "# Load your dataset\n",
    "df = pd.read_csv(\"Numeric data (last year work).csv\")\n",
    "\n",
    "# Separate features (X) and target (y)\n",
    "X = df.drop(\"Rating\", axis=1)  # Replace \"Rating\" with your target column name\n",
    "y = df[\"Rating\"]\n"
   ]
  }
 ],
 "metadata": {
  "kernelspec": {
   "display_name": "Python 3",
   "language": "python",
   "name": "python3"
  },
  "language_info": {
   "codemirror_mode": {
    "name": "ipython",
    "version": 3
   },
   "file_extension": ".py",
   "mimetype": "text/x-python",
   "name": "python",
   "nbconvert_exporter": "python",
   "pygments_lexer": "ipython3",
   "version": "3.9.13"
  }
 },
 "nbformat": 4,
 "nbformat_minor": 2
}
