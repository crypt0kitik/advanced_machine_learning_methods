{
 "cells": [
  {
   "cell_type": "code",
   "execution_count": 5,
   "metadata": {},
   "outputs": [],
   "source": [
    "# import libraries\n",
    "import os\n",
    "import pandas as pd\n",
    "import numpy as np\n",
    "from scipy.sparse import hstack\n",
    "from sklearn.feature_extraction.text import TfidfVectorizer\n",
    "import gensim.downloader as api\n",
    "from nltk.tokenize import word_tokenize\n",
    "import spacy"
   ]
  },
  {
   "cell_type": "code",
   "execution_count": 6,
   "metadata": {},
   "outputs": [],
   "source": [
    "# Load spaCy English model\n",
    "nlp = spacy.load(\"en_core_web_sm\")\n"
   ]
  },
  {
   "cell_type": "code",
   "execution_count": null,
   "metadata": {},
   "outputs": [],
   "source": [
    "# List of survey files to process\n",
    "survey_files = [\n",
    "    \"dataset_bert_token_stopwords_lemmatize.csv\",\n",
    "    \"dataset_sentence_token_stopwords_lemmatize.csv\",\n",
    "    \"dataset_subword_token_stopwords_lemmatize.csv\",\n",
    "    \"dataset_tiktoken_token_stopwords_lemmatize.csv\",\n",
    "    \"dataset_whitespace_token_stopwords_lemmatize.csv\",\n",
    "    \"dataset_word_token_stopwords_lemmatize.csv\",\n",
    "]"
   ]
  },
  {
   "cell_type": "code",
   "execution_count": 8,
   "metadata": {},
   "outputs": [],
   "source": [
    "# based on answers length\n",
    "# we splitted them in two lists\n",
    "short_text_columns = [\"api_usage_pre\", \"tableau_usage_pre\", \"ml_application_pre\", \"persona_explanation_pre\", \"tools_usage_post\", \"api_usage_post\", \"ml_application_post\", ]\n",
    "long_text_columns = [\"data_collection_explanation_post\", \"data_analysis_explanation_post\", \"persona_building_explanation_post\", \"evaluation_explanation_post\",]"
   ]
  },
  {
   "cell_type": "code",
   "execution_count": 9,
   "metadata": {},
   "outputs": [],
   "source": [
    "# Load pre-trained GloVe model (50-dimensional vectors)\n",
    "glove_model = api.load(\"glove-wiki-gigaword-50\")"
   ]
  },
  {
   "cell_type": "code",
   "execution_count": 10,
   "metadata": {},
   "outputs": [],
   "source": [
    "# Dictionary to store vectorized data for each survey\n",
    "vectorized_surveys = {}"
   ]
  },
  {
   "cell_type": "code",
   "execution_count": 11,
   "metadata": {},
   "outputs": [],
   "source": [
    "def vectorize_sentence_with_glove(sentence, model, vector_size=50):\n",
    "    \"\"\"\n",
    "    Convert a tokenized sentence into a GloVe word embedding vector.\n",
    "    If a word is not in GloVe, it is ignored.\n",
    "    \"\"\"\n",
    "    words = [token.text for token in nlp(sentence) if token.text in model]\n",
    "    if not words:\n",
    "        return np.zeros(vector_size)  # Return zero vector if no known words are found\n",
    "    return np.mean([model[word] for word in words], axis=0)"
   ]
  },
  {
   "cell_type": "code",
   "execution_count": 12,
   "metadata": {},
   "outputs": [],
   "source": [
    "def process_survey(file_name):\n",
    "    \"\"\"\n",
    "    Vectorizes a single survey dataset.\n",
    "    - Uses TF-IDF for short responses\n",
    "    - Uses GloVe embeddings for open-ended responses\n",
    "    - Combines both into a single feature matrix\n",
    "    \"\"\"\n",
    "    try:\n",
    "        df = pd.read_csv(file_name)\n",
    "        print(f\"Processing survey: {file_name}\")\n",
    "\n",
    "        tfidf_vectorizer = TfidfVectorizer()\n",
    "        short_response_vectors = tfidf_vectorizer.fit_transform(df[short_text_columns].fillna(\"\").agg(\" \".join, axis=1))\n",
    "\n",
    "        df[\"glove_vector\"] = df[long_text_columns].fillna(\"\").agg(\" \".join, axis=1).apply(lambda x: vectorize_sentence_with_glove(x, glove_model, 50))\n",
    "\n",
    "        glove_vectors = np.vstack(df[\"glove_vector\"])\n",
    "\n",
    "        final_feature_matrix = hstack([short_response_vectors, glove_vectors])\n",
    "\n",
    "        print(f\"Vectorization complete for: {file_name}, Shape: {final_feature_matrix.shape}\")\n",
    "\n",
    "        return final_feature_matrix\n",
    "\n",
    "    except Exception as e:\n",
    "        print(f\"Error processing {file_name}: {e}\")\n",
    "        return None\n"
   ]
  },
  {
   "cell_type": "code",
   "execution_count": 13,
   "metadata": {},
   "outputs": [
    {
     "name": "stdout",
     "output_type": "stream",
     "text": [
      "Processing survey: dataset_bert_token_stopwords_lemmatize.csv\n",
      "Vectorization complete for: dataset_bert_token_stopwords_lemmatize.csv, Shape: (26, 360)\n",
      "Processing survey: dataset_sentence_token_stopwords_lemmatize.csv\n",
      "Vectorization complete for: dataset_sentence_token_stopwords_lemmatize.csv, Shape: (26, 348)\n",
      "Processing survey: dataset_subword_token_stopwords_lemmatize.csv\n",
      "Vectorization complete for: dataset_subword_token_stopwords_lemmatize.csv, Shape: (26, 579)\n",
      "Processing survey: dataset_tiktoken_token_stopwords_lemmatize.csv\n",
      "Vectorization complete for: dataset_tiktoken_token_stopwords_lemmatize.csv, Shape: (26, 726)\n",
      "Processing survey: dataset_whitespace_token_stopwords_lemmatize.csv\n",
      "Vectorization complete for: dataset_whitespace_token_stopwords_lemmatize.csv, Shape: (26, 341)\n",
      "Processing survey: dataset_word_token_stopwords_lemmatize.csv\n",
      "Vectorization complete for: dataset_word_token_stopwords_lemmatize.csv, Shape: (26, 339)\n"
     ]
    }
   ],
   "source": [
    "# Process each survey file\n",
    "for survey_file in survey_files:\n",
    "    vectorized_surveys[survey_file] = process_survey(survey_file)"
   ]
  },
  {
   "cell_type": "code",
   "execution_count": 14,
   "metadata": {},
   "outputs": [
    {
     "name": "stdout",
     "output_type": "stream",
     "text": [
      "Vectorized data saved: dataset_bert_token_stopwords_lemmatize_vectorized.npz\n",
      "Vectorized data saved: dataset_sentence_token_stopwords_lemmatize_vectorized.npz\n",
      "Vectorized data saved: dataset_subword_token_stopwords_lemmatize_vectorized.npz\n",
      "Vectorized data saved: dataset_tiktoken_token_stopwords_lemmatize_vectorized.npz\n",
      "Vectorized data saved: dataset_whitespace_token_stopwords_lemmatize_vectorized.npz\n",
      "Vectorized data saved: dataset_word_token_stopwords_lemmatize_vectorized.npz\n"
     ]
    }
   ],
   "source": [
    "# Save vectorized data for each survey\n",
    "for survey_name, feature_matrix in vectorized_surveys.items():\n",
    "    if feature_matrix is not None:\n",
    "        output_file = survey_name.replace(\".csv\", \"_vectorized.npz\")\n",
    "        np.savez_compressed(output_file, feature_matrix=feature_matrix)\n",
    "        print(f\"Vectorized data saved: {output_file}\")"
   ]
  }
 ],
 "metadata": {
  "kernelspec": {
   "display_name": "Python 3",
   "language": "python",
   "name": "python3"
  },
  "language_info": {
   "codemirror_mode": {
    "name": "ipython",
    "version": 3
   },
   "file_extension": ".py",
   "mimetype": "text/x-python",
   "name": "python",
   "nbconvert_exporter": "python",
   "pygments_lexer": "ipython3",
   "version": "3.9.13"
  }
 },
 "nbformat": 4,
 "nbformat_minor": 2
}
