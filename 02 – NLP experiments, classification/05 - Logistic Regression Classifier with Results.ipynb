{
 "cells": [
  {
   "cell_type": "code",
   "execution_count": 1,
   "metadata": {},
   "outputs": [],
   "source": [
    "import os\n",
    "import pandas as pd\n",
    "import numpy as np\n",
    "import scipy.sparse\n",
    "from sklearn.model_selection import train_test_split\n",
    "from sklearn.linear_model import LogisticRegression\n",
    "from sklearn.metrics import accuracy_score, classification_report\n",
    "from scipy.sparse import load_npz"
   ]
  },
  {
   "cell_type": "code",
   "execution_count": 2,
   "metadata": {},
   "outputs": [],
   "source": [
    "# List of datasets (using .npz files for vectorized data)\n",
    "survey_files = [\n",
    "    \"01.1_df_word_token_stopwords_lemmatize_vectorized.npz\",\n",
    "    \"01.2_df_subword_token_stopwords_lemmatize_vectorized.npz\",\n",
    "    \"01.3_df_sentence_token_stopwords_lemmatize_vectorized.npz\",\n",
    "    \"01.4_df_bert_token_stopwords_lemmatize_vectorized.npz\",\n",
    "    \"01.5_df_tiktoken_token_stopwords_lemmatize_vectorized.npz\",\n",
    "    \"01.6_df_whitespace_token_stopwords_lemmatize_vectorized.npz\"\n",
    "]"
   ]
  },
  {
   "cell_type": "code",
   "execution_count": 3,
   "metadata": {},
   "outputs": [],
   "source": [
    "# Corresponding CSV files with labels\n",
    "label_files = [\n",
    "    \"01.1_df_word_token_stopwords_lemmatize.csv\",\n",
    "    \"01.2_df_subword_token_stopwords_lemmatize.csv\",\n",
    "    \"01.3_df_sentence_token_stopwords_lemmatize.csv\",\n",
    "    \"01.4_df_bert_token_stopwords_lemmatize.csv\",\n",
    "    \"01.5_df_tiktoken_token_stopwords_lemmatize.csv\",\n",
    "    \"01.6_df_whitespace_token_stopwords_lemmatize.csv\"\n",
    "]"
   ]
  },
  {
   "cell_type": "code",
   "execution_count": 4,
   "metadata": {},
   "outputs": [],
   "source": [
    "# Label columns for different classification tasks\n",
    "label_columns = {\n",
    "    \"binary_correctness\": [\n",
    "        \"persona_definition_pre_grade\", \"persona_definition_post_grade\",\n",
    "        \"interactive_persona_pre_grade\", \"interactive_persona_post_grade\",\n",
    "        \"data_driven_persona_pre_grade\", \"data_driven_persona_post_grade\",\n",
    "        \"dynamic_persona_pre_grade\", \"dynamic_persona_post_grade\"\n",
    "    ],\n",
    "    \"comparison_labels\": [\n",
    "        \"persona_definition_pre_grade\", \"persona_definition_post_grade\",\n",
    "        \"interactive_persona_pre_grade\", \"interactive_persona_post_grade\",\n",
    "        \"data_driven_persona_pre_grade\", \"data_driven_persona_post_grade\",\n",
    "        \"dynamic_persona_pre_grade\", \"dynamic_persona_post_grade\"\n",
    "    ],\n",
    "    \"ai_grading\": [\n",
    "        \"data_collection_explanation_post_grade\", \n",
    "        \"data_analysis_explanation_post_grade\",\n",
    "        \"persona_building_explanation_post_grade\",\n",
    "        \"evaluation_explanation_post_grade\"\n",
    "    ],\n",
    "    \"group_classification\": [\"group_class\"]\n",
    "}"
   ]
  },
  {
   "cell_type": "code",
   "execution_count": 5,
   "metadata": {},
   "outputs": [
    {
     "name": "stdout",
     "output_type": "stream",
     "text": [
      "Loaded: 01.1_df_word_token_stopwords_lemmatize_vectorized.npz (TF-IDF shape: (26, 339)) and 01.1_df_word_token_stopwords_lemmatize.csv (Rows: 26)\n",
      "\n",
      "Training model for: persona_definition_pre_grade (Category: binary_correctness)\n",
      "Model Accuracy for persona_definition_pre_grade: 0.6667\n",
      "Classification Report:\n",
      "               precision    recall  f1-score   support\n",
      "\n",
      "     Correct       0.75      0.75      0.75         4\n",
      " Not Correct       0.50      0.50      0.50         2\n",
      "\n",
      "    accuracy                           0.67         6\n",
      "   macro avg       0.62      0.62      0.62         6\n",
      "weighted avg       0.67      0.67      0.67         6\n",
      "\n",
      "\n",
      "Sample of Model Classifications:\n",
      "     True Label Predicted Label\n",
      "11      Correct         Correct\n",
      "9   Not Correct         Correct\n",
      "0       Correct         Correct\n",
      "16  Not Correct     Not Correct\n",
      "8       Correct     Not Correct\n",
      "24      Correct         Correct\n",
      "\n",
      "Training model for: persona_definition_post_grade (Category: binary_correctness)\n"
     ]
    },
    {
     "ename": "ValueError",
     "evalue": "This solver needs samples of at least 2 classes in the data, but the data contains only one class: 'Not Correct'",
     "output_type": "error",
     "traceback": [
      "\u001b[0;31m---------------------------------------------------------------------------\u001b[0m",
      "\u001b[0;31mValueError\u001b[0m                                Traceback (most recent call last)",
      "Cell \u001b[0;32mIn[5], line 33\u001b[0m\n\u001b[1;32m     31\u001b[0m \u001b[38;5;66;03m# Train Naïve Bayes classifier\u001b[39;00m\n\u001b[1;32m     32\u001b[0m model \u001b[38;5;241m=\u001b[39m LogisticRegression()\n\u001b[0;32m---> 33\u001b[0m \u001b[43mmodel\u001b[49m\u001b[38;5;241;43m.\u001b[39;49m\u001b[43mfit\u001b[49m\u001b[43m(\u001b[49m\u001b[43mX_train\u001b[49m\u001b[43m,\u001b[49m\u001b[43m \u001b[49m\u001b[43my_train\u001b[49m\u001b[43m)\u001b[49m\n\u001b[1;32m     35\u001b[0m \u001b[38;5;66;03m# Make predictions\u001b[39;00m\n\u001b[1;32m     36\u001b[0m y_pred \u001b[38;5;241m=\u001b[39m model\u001b[38;5;241m.\u001b[39mpredict(X_test)\n",
      "File \u001b[0;32m~/anaconda3/lib/python3.10/site-packages/sklearn/linear_model/_logistic.py:1241\u001b[0m, in \u001b[0;36mLogisticRegression.fit\u001b[0;34m(self, X, y, sample_weight)\u001b[0m\n\u001b[1;32m   1239\u001b[0m classes_ \u001b[38;5;241m=\u001b[39m \u001b[38;5;28mself\u001b[39m\u001b[38;5;241m.\u001b[39mclasses_\n\u001b[1;32m   1240\u001b[0m \u001b[38;5;28;01mif\u001b[39;00m n_classes \u001b[38;5;241m<\u001b[39m \u001b[38;5;241m2\u001b[39m:\n\u001b[0;32m-> 1241\u001b[0m     \u001b[38;5;28;01mraise\u001b[39;00m \u001b[38;5;167;01mValueError\u001b[39;00m(\n\u001b[1;32m   1242\u001b[0m         \u001b[38;5;124m\"\u001b[39m\u001b[38;5;124mThis solver needs samples of at least 2 classes\u001b[39m\u001b[38;5;124m\"\u001b[39m\n\u001b[1;32m   1243\u001b[0m         \u001b[38;5;124m\"\u001b[39m\u001b[38;5;124m in the data, but the data contains only one\u001b[39m\u001b[38;5;124m\"\u001b[39m\n\u001b[1;32m   1244\u001b[0m         \u001b[38;5;124m\"\u001b[39m\u001b[38;5;124m class: \u001b[39m\u001b[38;5;132;01m%r\u001b[39;00m\u001b[38;5;124m\"\u001b[39m\n\u001b[1;32m   1245\u001b[0m         \u001b[38;5;241m%\u001b[39m classes_[\u001b[38;5;241m0\u001b[39m]\n\u001b[1;32m   1246\u001b[0m     )\n\u001b[1;32m   1248\u001b[0m \u001b[38;5;28;01mif\u001b[39;00m \u001b[38;5;28mlen\u001b[39m(\u001b[38;5;28mself\u001b[39m\u001b[38;5;241m.\u001b[39mclasses_) \u001b[38;5;241m==\u001b[39m \u001b[38;5;241m2\u001b[39m:\n\u001b[1;32m   1249\u001b[0m     n_classes \u001b[38;5;241m=\u001b[39m \u001b[38;5;241m1\u001b[39m\n",
      "\u001b[0;31mValueError\u001b[0m: This solver needs samples of at least 2 classes in the data, but the data contains only one class: 'Not Correct'"
     ]
    }
   ],
   "source": [
    "# Process each dataset\n",
    "for npz_file, csv_file in zip(survey_files, label_files):\n",
    "    if os.path.exists(npz_file) and os.path.exists(csv_file):\n",
    "        # Load TF-IDF vectorized features from .npz file\n",
    "        npz_data = np.load(npz_file, allow_pickle=True)\n",
    "        X_matrix = load_npz(npz_file)\n",
    "\n",
    "        # Convert to CSR format for efficient processing\n",
    "        X_matrix = X_matrix.tocsr()\n",
    "\n",
    "        # Load labels from the corresponding CSV file\n",
    "        df = pd.read_csv(csv_file)\n",
    "        print(f\"Loaded: {npz_file} (TF-IDF shape: {X_matrix.shape}) and {csv_file} (Rows: {df.shape[0]})\")\n",
    "\n",
    "        # Train a separate model for each label column\n",
    "        for category, label_cols in label_columns.items():\n",
    "            for label_col in label_cols:\n",
    "                if label_col in df.columns:\n",
    "                    print(f\"\\nTraining model for: {label_col} (Category: {category})\")\n",
    "\n",
    "                    # Extract labels and remove missing values\n",
    "                    df_filtered = df[[label_col]].dropna()\n",
    "                    y = df_filtered[label_col]\n",
    "                    X_filtered = X_matrix[df_filtered.index]\n",
    "\n",
    "                    # Train-test split\n",
    "                    X_train, X_test, y_train, y_test = train_test_split(\n",
    "                        X_filtered, y, test_size=0.2, random_state=42\n",
    "                    )\n",
    "\n",
    "                    # Train Naïve Bayes classifier\n",
    "                    model = LogisticRegression()\n",
    "                    model.fit(X_train, y_train)\n",
    "\n",
    "                    # Make predictions\n",
    "                    y_pred = model.predict(X_test)\n",
    "\n",
    "                    # Evaluate the model\n",
    "                    accuracy = accuracy_score(y_test, y_pred)\n",
    "                    print(f\"Model Accuracy for {label_col}: {accuracy:.4f}\")\n",
    "                    print(\"Classification Report:\\n\", classification_report(y_test, y_pred))\n",
    "\n",
    "                    # Show a sample of model predictions\n",
    "                    df_results = pd.DataFrame({\"True Label\": y_test, \"Predicted Label\": y_pred})\n",
    "                    print(\"\\nSample of Model Classifications:\")\n",
    "                    print(df_results.sample(min(10, len(df_results))))\n",
    "    else:\n",
    "        print(f\"File not found: {npz_file} or {csv_file}\")\n",
    "# Show full classification results\n",
    "print(\"\\nFull Classification Results:\")\n",
    "print(df_results)\n",
    "\n",
    "# Save results to CSV for further analysis\n",
    "df_results.to_csv(\"classification_results.csv\", index=False)\n",
    "print(\"\\nClassification results saved to 'classification_results.csv'\")\n",
    "\n",
    "# Display participants grouped by predicted label (if Participant ID exists)\n",
    "if 'Participant ID' in df_results.columns:\n",
    "    grouped_results = df_results.groupby(\"Predicted Label\")[\"Participant ID\"].apply(list)\n",
    "    print(\"\\nParticipants grouped by predicted class:\")\n",
    "    print(grouped_results)\n"
   ]
  },
  {
   "cell_type": "code",
   "execution_count": null,
   "metadata": {},
   "outputs": [],
   "source": []
  },
  {
   "cell_type": "code",
   "execution_count": null,
   "metadata": {},
   "outputs": [],
   "source": []
  }
 ],
 "metadata": {
  "kernelspec": {
   "display_name": "Python 3 (ipykernel)",
   "language": "python",
   "name": "python3"
  },
  "language_info": {
   "codemirror_mode": {
    "name": "ipython",
    "version": 3
   },
   "file_extension": ".py",
   "mimetype": "text/x-python",
   "name": "python",
   "nbconvert_exporter": "python",
   "pygments_lexer": "ipython3",
   "version": "3.10.9"
  }
 },
 "nbformat": 4,
 "nbformat_minor": 4
}
