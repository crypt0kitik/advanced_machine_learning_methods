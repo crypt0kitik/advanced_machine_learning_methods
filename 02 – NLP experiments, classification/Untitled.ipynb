{
 "cells": [
  {
   "cell_type": "markdown",
   "id": "4dd690ff-8b40-4211-a3d9-d5c9865d966b",
   "metadata": {},
   "source": [
    "The current code does not use a classifier; it directly calculates participants’ knowledge progression based on their pre-test and post-test scores. This approach is more of a rule-based classification rather than using machine learning.\n",
    "\n",
    "How It Works:\n",
    "\t•\tComputes the total score difference for each participant.\n",
    "\t•\tApplies a rule-based function to classify them into three groups:\n",
    "\t•\t\"Improved\" → If post-test score is higher than pre-test.\n",
    "\t•\t\"Declined\" → If post-test score is lower than pre-test.\n",
    "\t•\t\"Same Stage\" → If post-test score did not change.\n",
    "\n",
    "This is a deterministic approach based on numeric differences, not a machine learning classifier.\n",
    "\n",
    "\n",
    "YOU can keep only labels , make them numeric and based on this data , create clusters"
   ]
  },
  {
   "cell_type": "code",
   "execution_count": null,
   "id": "c53e0f33-e4ce-4021-acb9-e98a7f866bae",
   "metadata": {},
   "outputs": [],
   "source": []
  }
 ],
 "metadata": {
  "kernelspec": {
   "display_name": "Python 3 (ipykernel)",
   "language": "python",
   "name": "python3"
  },
  "language_info": {
   "codemirror_mode": {
    "name": "ipython",
    "version": 3
   },
   "file_extension": ".py",
   "mimetype": "text/x-python",
   "name": "python",
   "nbconvert_exporter": "python",
   "pygments_lexer": "ipython3",
   "version": "3.10.9"
  }
 },
 "nbformat": 4,
 "nbformat_minor": 5
}
