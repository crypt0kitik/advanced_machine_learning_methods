{
 "cells": [
  {
   "cell_type": "markdown",
   "metadata": {},
   "source": [
    "# Adding labels to the dataset"
   ]
  },
  {
   "cell_type": "code",
   "execution_count": 30,
   "metadata": {},
   "outputs": [],
   "source": [
    "# pip install google-generativeai\n",
    "import google.generativeai as genai\n",
    "import pandas as pd"
   ]
  },
  {
   "cell_type": "code",
   "execution_count": null,
   "metadata": {},
   "outputs": [],
   "source": [
    "#Google PaLM 2 API key\n",
    "genai.configure(api_key=\"xxx\")"
   ]
  },
  {
   "cell_type": "code",
   "execution_count": 32,
   "metadata": {},
   "outputs": [
    {
     "name": "stdout",
     "output_type": "stream",
     "text": [
      "models/chat-bison-001\n",
      "models/text-bison-001\n",
      "models/embedding-gecko-001\n",
      "models/gemini-1.0-pro-vision-latest\n",
      "models/gemini-pro-vision\n",
      "models/gemini-1.5-pro-latest\n",
      "models/gemini-1.5-pro-001\n",
      "models/gemini-1.5-pro-002\n",
      "models/gemini-1.5-pro\n",
      "models/gemini-1.5-flash-latest\n",
      "models/gemini-1.5-flash-001\n",
      "models/gemini-1.5-flash-001-tuning\n",
      "models/gemini-1.5-flash\n",
      "models/gemini-1.5-flash-002\n",
      "models/gemini-1.5-flash-8b\n",
      "models/gemini-1.5-flash-8b-001\n",
      "models/gemini-1.5-flash-8b-latest\n",
      "models/gemini-1.5-flash-8b-exp-0827\n",
      "models/gemini-1.5-flash-8b-exp-0924\n",
      "models/gemini-2.0-flash-exp\n",
      "models/gemini-2.0-flash\n",
      "models/gemini-2.0-flash-001\n",
      "models/gemini-2.0-flash-lite-001\n",
      "models/gemini-2.0-flash-lite\n",
      "models/gemini-2.0-pro-exp\n",
      "models/gemini-2.0-pro-exp-02-05\n",
      "models/gemini-exp-1206\n",
      "models/gemini-2.0-flash-thinking-exp-01-21\n",
      "models/gemini-2.0-flash-thinking-exp\n",
      "models/gemini-2.0-flash-thinking-exp-1219\n",
      "models/learnlm-1.5-pro-experimental\n",
      "models/embedding-001\n",
      "models/text-embedding-004\n",
      "models/aqa\n",
      "models/imagen-3.0-generate-002\n"
     ]
    }
   ],
   "source": [
    "# List available models\n",
    "models = genai.list_models()\n",
    "for model in models:\n",
    "    print(model.name)"
   ]
  },
  {
   "cell_type": "code",
   "execution_count": 33,
   "metadata": {},
   "outputs": [],
   "source": [
    "# Define correct answers for numeric questions\n",
    "numeric_correct_answers = {\n",
    "    #\"data_sources_pre\": 4,\n",
    "    \"persona_definition_pre\": 1,\n",
    "    \"interactive_persona_pre\": 2,\n",
    "    \"data_driven_persona_pre\": 2,\n",
    "    \"dynamic_persona_pre\": 1,\n",
    "    \"persona_definition_post\": 4,\n",
    "    \"interactive_persona_post\": 1,\n",
    "    \"data_driven_persona_post\": 2,\n",
    "    \"dynamic_persona_post\": 1\n",
    "}"
   ]
  },
  {
   "cell_type": "code",
   "execution_count": 34,
   "metadata": {},
   "outputs": [],
   "source": [
    "# Function to classify numeric answers\n",
    "def classify_numeric_answer(column, response):\n",
    "    \"\"\"\n",
    "    Classifies numeric answers as Correct or Not Correct based on predefined correct values.\n",
    "    \"\"\"\n",
    "    try:\n",
    "        response_value = float(response)  # Convert response to float\n",
    "        correct_value = numeric_correct_answers.get(column, None)\n",
    "\n",
    "        if correct_value is not None:\n",
    "            return \"Correct\" if response_value == correct_value else \"Not Correct\"\n",
    "        else:\n",
    "            return \"No Classification\"\n",
    "    except ValueError:\n",
    "        return \"Invalid\"  # Handle cases where response is not a valid number\n",
    "\n"
   ]
  },
  {
   "cell_type": "code",
   "execution_count": 35,
   "metadata": {},
   "outputs": [],
   "source": [
    "# Function to grade text-based responses using AI\n",
    "import time  # Import time module to add delay\n",
    "\n",
    "def grade_text_answer(question, response):\n",
    "    \"\"\"\n",
    "    Uses Google Bard API (PaLM 2) to classify survey responses as High, Medium, or Low correctness.\n",
    "    \"\"\"\n",
    "    prompt = f\"\"\"\n",
    "    You are an AI grader for a survey. Your job is to evaluate the correctness of participant answers.\n",
    "\n",
    "    - HIGH: If the answer is fully correct and detailed.\n",
    "    - MEDIUM: If the answer is somewhat correct but lacks detail.\n",
    "    - LOW: If the answer is incorrect or unrelated.\n",
    "\n",
    "    Question: {question}\n",
    "    Answer: {response}\n",
    "\n",
    "    How would you score this answer? (Just reply with 'High', 'Medium', or 'Low')\n",
    "    \"\"\"\n",
    "\n",
    "    try:\n",
    "        model = genai.GenerativeModel(\"gemini-1.5-pro-latest\")\n",
    "        response = model.generate_content(prompt)\n",
    "        time.sleep(1)  # Add a 1-second delay to avoid exceeding quota\n",
    "        return response.text.strip()\n",
    "    except Exception as e:\n",
    "        print(f\"Error grading response: {e}\")\n",
    "        return \"Error\"\n"
   ]
  },
  {
   "cell_type": "code",
   "execution_count": 36,
   "metadata": {},
   "outputs": [],
   "source": [
    "# Function to compare pre/post responses and assign performance labels\n",
    "def compare_performance(pre_label, post_label):\n",
    "    \"\"\"\n",
    "    Assigns a performance change label based on pre-survey and post-survey correctness.\n",
    "    \"\"\"\n",
    "    label_order = {\"Low\": 1, \"Medium\": 2, \"High\": 3}  # Convert labels to numeric values for comparison\n",
    "\n",
    "    if pre_label not in label_order or post_label not in label_order:\n",
    "        return \"Error\"  # Handle unexpected labels\n",
    "\n",
    "    if label_order[post_label] > label_order[pre_label]:\n",
    "        return \"Improved\"\n",
    "    elif label_order[post_label] < label_order[pre_label]:\n",
    "        return \"Declined\"\n",
    "    else:\n",
    "        return \"Same\"\n"
   ]
  },
  {
   "cell_type": "code",
   "execution_count": 37,
   "metadata": {},
   "outputs": [],
   "source": [
    "# Load survey dataset\n",
    "file_path = \"all_numeric_survey_with questions.csv\"  # Replace with your actual survey file\n",
    "df = pd.read_csv(file_path)"
   ]
  },
  {
   "cell_type": "code",
   "execution_count": 38,
   "metadata": {},
   "outputs": [],
   "source": [
    "# Add Group Classification\n",
    "df[\"Group\"] = df[\"participant_id\"].apply(lambda x: \"Deepfake\" if x % 2 != 0 else \"Chatbot\")"
   ]
  },
  {
   "cell_type": "code",
   "execution_count": 39,
   "metadata": {},
   "outputs": [],
   "source": [
    "# Define all columns to be graded (correctness classification)\n",
    "numeric_columns = [\"persona_definition_pre\", \"interactive_persona_pre\", \"data_driven_persona_pre\",\n",
    "                   \"dynamic_persona_pre\", \"persona_definition_post\", \"interactive_persona_post\",\n",
    "                   \"data_driven_persona_post\", \"dynamic_persona_post\"]"
   ]
  },
  {
   "cell_type": "code",
   "execution_count": 40,
   "metadata": {},
   "outputs": [],
   "source": [
    "# Define all columns to be graded (correctness classification)\n",
    "text_columns = [\"Explain how data-driven personas development could be used to create student personas for a marketing course that you are teaching (or you have participated in as a student). Be as specific as you can. Cover the following aspect in this question: - data collection (e.g., what data to collect, how to collect, how much)\", \n",
    "               \"Explain how data-driven personas development could be used to create student personas for a marketing course that you are teaching (or you have participated in as a student). Be as specific as you can. Cover the following aspect in this question: - data analysis (e.g., how to segment the data, what methods to use)\", \n",
    "               \"Explain how data-driven personas development could be used to create student personas for a marketing course that you are teaching (or you have participated in as a student). Be as specific as you can. Cover the following aspect in this question: - persona building (e.g., how to create persona profiles)\", \n",
    "               \"Explain how data-driven personas development could be used to create student personas for a marketing course that you are teaching (or you have participated in as a student). Be as specific as you can. Cover the following aspect in this question: - and evaluation (e.g., how to evaluate that the personas are accurate and useful)\"]  "
   ]
  },
  {
   "cell_type": "code",
   "execution_count": 41,
   "metadata": {},
   "outputs": [],
   "source": [
    "# Manually specify which columns belong to pre-survey and post-survey\n",
    "pre_columns = [\"For what purposes can tools like Tableau, Power BI, or Python libraries be used in persona development? (pre)\", \n",
    "               \"In persona development, why would you use APIs?  (pre)\", \n",
    "               \"For what purposes can machine learning algorithms be used in persona development?  (pre)\"] \n",
    "\n",
    "\n",
    "post_columns = [\"For what purposes can tools like Canva or Powerpoint be used in persona development? (post)\", \n",
    "                \"In persona development, why would you use APIs? (post)\", \n",
    "                \"For what purposes can machine learning algorithms be used in persona development? (post)\"]\n"
   ]
  },
  {
   "cell_type": "code",
   "execution_count": 42,
   "metadata": {},
   "outputs": [],
   "source": [
    "# Create a new DataFrame to store graded responses\n",
    "graded_df = df.copy()"
   ]
  },
  {
   "cell_type": "code",
   "execution_count": 46,
   "metadata": {},
   "outputs": [
    {
     "name": "stdout",
     "output_type": "stream",
     "text": [
      "Available columns in graded_df: ['start_date_pre', 'end_date_pre', 'ip_address_pre', 'duration_sec_pre', 'response_id_pre', 'LocationLatitude_pre', 'LocationLongitude_pre', 'DistributionChannel_pre', 'UserLanguage_pre', 'participant_id', 'age_pre', 'gender_pre', 'occupation_pre', 'teaching_marketing_pre', 'teaching_experience_pre', 'learning_style_pre', 'learning_format_pre', 'interaction_preference_pre', 'trusted_learning_method_pre', 'ai_familiarity_pre', 'ddp_familiarity_pre', 'data_sources_pre', 'persona_definition_pre', 'interactive_persona_pre', 'data_driven_persona_pre', 'dynamic_persona_pre', 'For what purposes can tools like Tableau, Power BI, or Python libraries be used in persona development? (pre)', 'In persona development, why would you use APIs?  (pre)', 'For what purposes can machine learning algorithms be used in persona development?  (pre)', 'What challenges are associated with the persona phenomenon?  (pre)', 'confirmation_pre', 'start_date_post', 'end_date_post', 'ip_address_post', 'duration_sec_post', 'response_id_post', 'LocationLatitude_post', 'LocationLongitude_post', 'DistributionChannel_post', 'UserLanguage_post', 'Explain how data-driven personas development could be used to create student personas for a marketing course that you are teaching (or you have participated in as a student). Be as specific as you can. Cover the following aspect in this question: - data collection (e.g., what data to collect, how to collect, how much)', 'Explain how data-driven personas development could be used to create student personas for a marketing course that you are teaching (or you have participated in as a student). Be as specific as you can. Cover the following aspect in this question: - data analysis (e.g., how to segment the data, what methods to use)', 'Explain how data-driven personas development could be used to create student personas for a marketing course that you are teaching (or you have participated in as a student). Be as specific as you can. Cover the following aspect in this question: - persona building (e.g., how to create persona profiles)', 'Explain how data-driven personas development could be used to create student personas for a marketing course that you are teaching (or you have participated in as a student). Be as specific as you can. Cover the following aspect in this question: - and evaluation (e.g., how to evaluate that the personas are accurate and useful)', 'ai_familiarity_post', 'ddp_familiarity_post', 'data_sources_post', 'persona_definition_post', 'interactive_persona_post', 'data_driven_persona_post', 'dynamic_persona_post', 'For what purposes can tools like Canva or Powerpoint be used in persona development? (post)', 'In persona development, why would you use APIs? (post)', 'For what purposes can machine learning algorithms be used in persona development? (post)', 'engagement_experience_post', 'interaction_quality_post', 'communication_clarity_post', 'trustworthiness_post', 'emotional_response_post', 'naturalness_post', 'effectiveness_post', 'comfort_level_post', 'personalization_post', 'mental_effort_post', 'Group', 'Explain how data-driven personas development could be used to create student personas for a marketing course that you are teaching (or you have participated in as a student). Be as specific as you can. Cover the following aspect in this question: - data collection (e.g., what data to collect, how to collect, how much)_Grade', 'Explain how data-driven personas development could be used to create student personas for a marketing course that you are teaching (or you have participated in as a student). Be as specific as you can. Cover the following aspect in this question: - data analysis (e.g., how to segment the data, what methods to use)_Grade', 'Explain how data-driven personas development could be used to create student personas for a marketing course that you are teaching (or you have participated in as a student). Be as specific as you can. Cover the following aspect in this question: - persona building (e.g., how to create persona profiles)_Grade', 'Explain how data-driven personas development could be used to create student personas for a marketing course that you are teaching (or you have participated in as a student). Be as specific as you can. Cover the following aspect in this question: - and evaluation (e.g., how to evaluate that the personas are accurate and useful)_Grade', 'persona_definition_pre_Grade', 'interactive_persona_pre_Grade', 'data_driven_persona_pre_Grade', 'dynamic_persona_pre_Grade', 'persona_definition_post_Grade', 'interactive_persona_post_Grade', 'data_driven_persona_post_Grade', 'dynamic_persona_post_Grade']\n"
     ]
    }
   ],
   "source": [
    "print(\"Available columns in graded_df:\", graded_df.columns.tolist())"
   ]
  },
  {
   "cell_type": "code",
   "execution_count": 43,
   "metadata": {},
   "outputs": [
    {
     "name": "stdout",
     "output_type": "stream",
     "text": [
      "Grading text responses for: Explain How Data-Driven Personas Development Could Be Used To Create Student Personas For A Marketing Course That You Are Teaching (Or You Have Participated In As A Student). Be As Specific As You Can. Cover The Following Aspect In This Question: - Data Collection (E.G., What Data To Collect, How To Collect, How Much)...\n",
      "Error grading response: 429 Resource has been exhausted (e.g. check quota).\n",
      "Error grading response: 429 Resource has been exhausted (e.g. check quota).\n",
      "Error grading response: 429 Resource has been exhausted (e.g. check quota).\n",
      "Error grading response: 429 Resource has been exhausted (e.g. check quota).\n",
      "Error grading response: 429 Resource has been exhausted (e.g. check quota).\n",
      "Error grading response: 429 Resource has been exhausted (e.g. check quota).\n",
      "Error grading response: 429 Resource has been exhausted (e.g. check quota).\n",
      "Error grading response: 429 Resource has been exhausted (e.g. check quota).\n",
      "Error grading response: 429 Resource has been exhausted (e.g. check quota).\n",
      "Error grading response: 429 Resource has been exhausted (e.g. check quota).\n",
      "Error grading response: 429 Resource has been exhausted (e.g. check quota).\n",
      "Error grading response: 429 Resource has been exhausted (e.g. check quota).\n",
      "Error grading response: 429 Resource has been exhausted (e.g. check quota).\n",
      "Error grading response: 429 Resource has been exhausted (e.g. check quota).\n",
      "Error grading response: 429 Resource has been exhausted (e.g. check quota).\n",
      "Error grading response: 429 Resource has been exhausted (e.g. check quota).\n",
      "Error grading response: 429 Resource has been exhausted (e.g. check quota).\n",
      "Error grading response: 429 Resource has been exhausted (e.g. check quota).\n",
      "Error grading response: 429 Resource has been exhausted (e.g. check quota).\n",
      "Error grading response: 429 Resource has been exhausted (e.g. check quota).\n",
      "Error grading response: 429 Resource has been exhausted (e.g. check quota).\n",
      "Error grading response: 429 Resource has been exhausted (e.g. check quota).\n",
      "Error grading response: 429 Resource has been exhausted (e.g. check quota).\n",
      "Grading text responses for: Explain How Data-Driven Personas Development Could Be Used To Create Student Personas For A Marketing Course That You Are Teaching (Or You Have Participated In As A Student). Be As Specific As You Can. Cover The Following Aspect In This Question: - Data Analysis (E.G., How To Segment The Data, What Methods To Use)...\n",
      "Error grading response: 429 Resource has been exhausted (e.g. check quota).\n",
      "Error grading response: 429 Resource has been exhausted (e.g. check quota).\n",
      "Error grading response: 429 Resource has been exhausted (e.g. check quota).\n",
      "Error grading response: 429 Resource has been exhausted (e.g. check quota).\n",
      "Error grading response: 429 Resource has been exhausted (e.g. check quota).\n",
      "Error grading response: 429 Resource has been exhausted (e.g. check quota).\n",
      "Error grading response: 429 Resource has been exhausted (e.g. check quota).\n",
      "Error grading response: 429 Resource has been exhausted (e.g. check quota).\n",
      "Error grading response: 429 Resource has been exhausted (e.g. check quota).\n",
      "Error grading response: 429 Resource has been exhausted (e.g. check quota).\n",
      "Error grading response: 429 Resource has been exhausted (e.g. check quota).\n",
      "Error grading response: 429 Resource has been exhausted (e.g. check quota).\n",
      "Error grading response: 429 Resource has been exhausted (e.g. check quota).\n",
      "Error grading response: 429 Resource has been exhausted (e.g. check quota).\n",
      "Error grading response: 429 Resource has been exhausted (e.g. check quota).\n",
      "Error grading response: 429 Resource has been exhausted (e.g. check quota).\n",
      "Error grading response: 429 Resource has been exhausted (e.g. check quota).\n",
      "Error grading response: 429 Resource has been exhausted (e.g. check quota).\n",
      "Error grading response: 429 Resource has been exhausted (e.g. check quota).\n",
      "Error grading response: 429 Resource has been exhausted (e.g. check quota).\n",
      "Error grading response: 429 Resource has been exhausted (e.g. check quota).\n",
      "Error grading response: 429 Resource has been exhausted (e.g. check quota).\n",
      "Error grading response: 429 Resource has been exhausted (e.g. check quota).\n",
      "Error grading response: 429 Resource has been exhausted (e.g. check quota).\n",
      "Error grading response: 429 Resource has been exhausted (e.g. check quota).\n",
      "Error grading response: 429 Resource has been exhausted (e.g. check quota).\n",
      "Grading text responses for: Explain How Data-Driven Personas Development Could Be Used To Create Student Personas For A Marketing Course That You Are Teaching (Or You Have Participated In As A Student). Be As Specific As You Can. Cover The Following Aspect In This Question: - Persona Building (E.G., How To Create Persona Profiles)...\n",
      "Error grading response: 429 Resource has been exhausted (e.g. check quota).\n",
      "Error grading response: 429 Resource has been exhausted (e.g. check quota).\n",
      "Error grading response: 429 Resource has been exhausted (e.g. check quota).\n",
      "Error grading response: 429 Resource has been exhausted (e.g. check quota).\n",
      "Error grading response: 429 Resource has been exhausted (e.g. check quota).\n",
      "Error grading response: 429 Resource has been exhausted (e.g. check quota).\n",
      "Error grading response: 429 Resource has been exhausted (e.g. check quota).\n",
      "Error grading response: 429 Resource has been exhausted (e.g. check quota).\n",
      "Error grading response: 429 Resource has been exhausted (e.g. check quota).\n",
      "Error grading response: 429 Resource has been exhausted (e.g. check quota).\n",
      "Error grading response: 429 Resource has been exhausted (e.g. check quota).\n",
      "Error grading response: 429 Resource has been exhausted (e.g. check quota).\n",
      "Error grading response: 429 Resource has been exhausted (e.g. check quota).\n",
      "Error grading response: 429 Resource has been exhausted (e.g. check quota).\n",
      "Error grading response: 429 Resource has been exhausted (e.g. check quota).\n",
      "Error grading response: 429 Resource has been exhausted (e.g. check quota).\n",
      "Error grading response: 429 Resource has been exhausted (e.g. check quota).\n",
      "Error grading response: 429 Resource has been exhausted (e.g. check quota).\n",
      "Error grading response: 429 Resource has been exhausted (e.g. check quota).\n",
      "Error grading response: 429 Resource has been exhausted (e.g. check quota).\n",
      "Error grading response: 429 Resource has been exhausted (e.g. check quota).\n",
      "Error grading response: 429 Resource has been exhausted (e.g. check quota).\n",
      "Error grading response: 429 Resource has been exhausted (e.g. check quota).\n",
      "Error grading response: 429 Resource has been exhausted (e.g. check quota).\n",
      "Error grading response: 429 Resource has been exhausted (e.g. check quota).\n",
      "Error grading response: 429 Resource has been exhausted (e.g. check quota).\n",
      "Grading text responses for: Explain How Data-Driven Personas Development Could Be Used To Create Student Personas For A Marketing Course That You Are Teaching (Or You Have Participated In As A Student). Be As Specific As You Can. Cover The Following Aspect In This Question: - And Evaluation (E.G., How To Evaluate That The Personas Are Accurate And Useful)...\n",
      "Error grading response: 429 Resource has been exhausted (e.g. check quota).\n",
      "Error grading response: 429 Resource has been exhausted (e.g. check quota).\n",
      "Error grading response: 429 Resource has been exhausted (e.g. check quota).\n",
      "Error grading response: 429 Resource has been exhausted (e.g. check quota).\n",
      "Error grading response: 429 Resource has been exhausted (e.g. check quota).\n",
      "Error grading response: 429 Resource has been exhausted (e.g. check quota).\n",
      "Error grading response: 429 Resource has been exhausted (e.g. check quota).\n",
      "Error grading response: 429 Resource has been exhausted (e.g. check quota).\n",
      "Error grading response: 429 Resource has been exhausted (e.g. check quota).\n",
      "Error grading response: 429 Resource has been exhausted (e.g. check quota).\n",
      "Error grading response: 429 Resource has been exhausted (e.g. check quota).\n",
      "Error grading response: 429 Resource has been exhausted (e.g. check quota).\n",
      "Error grading response: 429 Resource has been exhausted (e.g. check quota).\n",
      "Error grading response: 429 Resource has been exhausted (e.g. check quota).\n",
      "Error grading response: 429 Resource has been exhausted (e.g. check quota).\n",
      "Error grading response: 429 Resource has been exhausted (e.g. check quota).\n",
      "Error grading response: 429 Resource has been exhausted (e.g. check quota).\n",
      "Error grading response: 429 Resource has been exhausted (e.g. check quota).\n",
      "Error grading response: 429 Resource has been exhausted (e.g. check quota).\n",
      "Error grading response: 429 Resource has been exhausted (e.g. check quota).\n",
      "Error grading response: 429 Resource has been exhausted (e.g. check quota).\n",
      "Error grading response: 429 Resource has been exhausted (e.g. check quota).\n",
      "Error grading response: 429 Resource has been exhausted (e.g. check quota).\n",
      "Error grading response: 429 Resource has been exhausted (e.g. check quota).\n",
      "Error grading response: 429 Resource has been exhausted (e.g. check quota).\n",
      "Error grading response: 429 Resource has been exhausted (e.g. check quota).\n"
     ]
    }
   ],
   "source": [
    "# Grade text-based responses (Correctness: HIGH, MEDIUM, LOW)\n",
    "for col in text_columns:\n",
    "    question = col.replace(\"_\", \" \").title()  # Convert column name to a readable question\n",
    "    print(f\"Grading text responses for: {question}...\")\n",
    "    graded_df[f\"{col}_Grade\"] = df[col].astype(str).apply(lambda response: grade_text_answer(question, response))"
   ]
  },
  {
   "cell_type": "code",
   "execution_count": 44,
   "metadata": {},
   "outputs": [
    {
     "name": "stdout",
     "output_type": "stream",
     "text": [
      "Classifying numeric responses for: persona_definition_pre...\n",
      "Classifying numeric responses for: interactive_persona_pre...\n",
      "Classifying numeric responses for: data_driven_persona_pre...\n",
      "Classifying numeric responses for: dynamic_persona_pre...\n",
      "Classifying numeric responses for: persona_definition_post...\n",
      "Classifying numeric responses for: interactive_persona_post...\n",
      "Classifying numeric responses for: data_driven_persona_post...\n",
      "Classifying numeric responses for: dynamic_persona_post...\n"
     ]
    }
   ],
   "source": [
    "# Classify numeric responses (Correctness: CORRECT or NOT CORRECT)\n",
    "for col in numeric_columns:\n",
    "    print(f\"Classifying numeric responses for: {col}...\")\n",
    "    graded_df[f\"{col}_Grade\"] = df[col].astype(str).apply(lambda response: classify_numeric_answer(col, response))"
   ]
  },
  {
   "cell_type": "code",
   "execution_count": 45,
   "metadata": {},
   "outputs": [
    {
     "name": "stdout",
     "output_type": "stream",
     "text": [
      "Comparing performance for: For what purposes can tools like Tableau, Power BI, or Python libraries be used in persona development? (pre) → For what purposes can tools like Canva or Powerpoint be used in persona development? (post)...\n"
     ]
    },
    {
     "ename": "KeyError",
     "evalue": "'For what purposes can tools like Tableau, Power BI, or Python libraries be used in persona development? (pre)_Grade'",
     "output_type": "error",
     "traceback": [
      "\u001b[1;31m---------------------------------------------------------------------------\u001b[0m",
      "\u001b[1;31mKeyError\u001b[0m                                  Traceback (most recent call last)",
      "File \u001b[1;32m~\\AppData\\Local\\Packages\\PythonSoftwareFoundation.Python.3.9_qbz5n2kfra8p0\\LocalCache\\local-packages\\Python39\\site-packages\\pandas\\core\\indexes\\base.py:3805\u001b[0m, in \u001b[0;36mIndex.get_loc\u001b[1;34m(self, key)\u001b[0m\n\u001b[0;32m   3804\u001b[0m \u001b[38;5;28;01mtry\u001b[39;00m:\n\u001b[1;32m-> 3805\u001b[0m     \u001b[38;5;28;01mreturn\u001b[39;00m \u001b[38;5;28;43mself\u001b[39;49m\u001b[38;5;241;43m.\u001b[39;49m\u001b[43m_engine\u001b[49m\u001b[38;5;241;43m.\u001b[39;49m\u001b[43mget_loc\u001b[49m\u001b[43m(\u001b[49m\u001b[43mcasted_key\u001b[49m\u001b[43m)\u001b[49m\n\u001b[0;32m   3806\u001b[0m \u001b[38;5;28;01mexcept\u001b[39;00m \u001b[38;5;167;01mKeyError\u001b[39;00m \u001b[38;5;28;01mas\u001b[39;00m err:\n",
      "File \u001b[1;32mindex.pyx:167\u001b[0m, in \u001b[0;36mpandas._libs.index.IndexEngine.get_loc\u001b[1;34m()\u001b[0m\n",
      "File \u001b[1;32mindex.pyx:196\u001b[0m, in \u001b[0;36mpandas._libs.index.IndexEngine.get_loc\u001b[1;34m()\u001b[0m\n",
      "File \u001b[1;32mpandas\\\\_libs\\\\hashtable_class_helper.pxi:7081\u001b[0m, in \u001b[0;36mpandas._libs.hashtable.PyObjectHashTable.get_item\u001b[1;34m()\u001b[0m\n",
      "File \u001b[1;32mpandas\\\\_libs\\\\hashtable_class_helper.pxi:7089\u001b[0m, in \u001b[0;36mpandas._libs.hashtable.PyObjectHashTable.get_item\u001b[1;34m()\u001b[0m\n",
      "\u001b[1;31mKeyError\u001b[0m: 'For what purposes can tools like Tableau, Power BI, or Python libraries be used in persona development? (pre)_Grade'",
      "\nThe above exception was the direct cause of the following exception:\n",
      "\u001b[1;31mKeyError\u001b[0m                                  Traceback (most recent call last)",
      "Cell \u001b[1;32mIn[45], line 4\u001b[0m\n\u001b[0;32m      2\u001b[0m \u001b[38;5;28;01mfor\u001b[39;00m pre_col, post_col \u001b[38;5;129;01min\u001b[39;00m \u001b[38;5;28mzip\u001b[39m(pre_columns, post_columns):\n\u001b[0;32m      3\u001b[0m     \u001b[38;5;28mprint\u001b[39m(\u001b[38;5;124mf\u001b[39m\u001b[38;5;124m\"\u001b[39m\u001b[38;5;124mComparing performance for: \u001b[39m\u001b[38;5;132;01m{\u001b[39;00mpre_col\u001b[38;5;132;01m}\u001b[39;00m\u001b[38;5;124m → \u001b[39m\u001b[38;5;132;01m{\u001b[39;00mpost_col\u001b[38;5;132;01m}\u001b[39;00m\u001b[38;5;124m...\u001b[39m\u001b[38;5;124m\"\u001b[39m)\n\u001b[1;32m----> 4\u001b[0m     graded_df[\u001b[38;5;124mf\u001b[39m\u001b[38;5;124m\"\u001b[39m\u001b[38;5;132;01m{\u001b[39;00mpre_col\u001b[38;5;132;01m}\u001b[39;00m\u001b[38;5;124m_Performance\u001b[39m\u001b[38;5;124m\"\u001b[39m] \u001b[38;5;241m=\u001b[39m \u001b[43mgraded_df\u001b[49m\u001b[38;5;241;43m.\u001b[39;49m\u001b[43mapply\u001b[49m\u001b[43m(\u001b[49m\n\u001b[0;32m      5\u001b[0m \u001b[43m        \u001b[49m\u001b[38;5;28;43;01mlambda\u001b[39;49;00m\u001b[43m \u001b[49m\u001b[43mrow\u001b[49m\u001b[43m:\u001b[49m\u001b[43m \u001b[49m\u001b[43mcompare_performance\u001b[49m\u001b[43m(\u001b[49m\u001b[43mrow\u001b[49m\u001b[43m[\u001b[49m\u001b[38;5;124;43mf\u001b[39;49m\u001b[38;5;124;43m\"\u001b[39;49m\u001b[38;5;132;43;01m{\u001b[39;49;00m\u001b[43mpre_col\u001b[49m\u001b[38;5;132;43;01m}\u001b[39;49;00m\u001b[38;5;124;43m_Grade\u001b[39;49m\u001b[38;5;124;43m\"\u001b[39;49m\u001b[43m]\u001b[49m\u001b[43m,\u001b[49m\u001b[43m \u001b[49m\u001b[43mrow\u001b[49m\u001b[43m[\u001b[49m\u001b[38;5;124;43mf\u001b[39;49m\u001b[38;5;124;43m\"\u001b[39;49m\u001b[38;5;132;43;01m{\u001b[39;49;00m\u001b[43mpost_col\u001b[49m\u001b[38;5;132;43;01m}\u001b[39;49;00m\u001b[38;5;124;43m_Grade\u001b[39;49m\u001b[38;5;124;43m\"\u001b[39;49m\u001b[43m]\u001b[49m\u001b[43m)\u001b[49m\u001b[43m,\u001b[49m\u001b[43m \u001b[49m\u001b[43maxis\u001b[49m\u001b[38;5;241;43m=\u001b[39;49m\u001b[38;5;241;43m1\u001b[39;49m\n\u001b[0;32m      6\u001b[0m \u001b[43m    \u001b[49m\u001b[43m)\u001b[49m\n",
      "File \u001b[1;32m~\\AppData\\Local\\Packages\\PythonSoftwareFoundation.Python.3.9_qbz5n2kfra8p0\\LocalCache\\local-packages\\Python39\\site-packages\\pandas\\core\\frame.py:10374\u001b[0m, in \u001b[0;36mDataFrame.apply\u001b[1;34m(self, func, axis, raw, result_type, args, by_row, engine, engine_kwargs, **kwargs)\u001b[0m\n\u001b[0;32m  10360\u001b[0m \u001b[38;5;28;01mfrom\u001b[39;00m \u001b[38;5;21;01mpandas\u001b[39;00m\u001b[38;5;21;01m.\u001b[39;00m\u001b[38;5;21;01mcore\u001b[39;00m\u001b[38;5;21;01m.\u001b[39;00m\u001b[38;5;21;01mapply\u001b[39;00m \u001b[38;5;28;01mimport\u001b[39;00m frame_apply\n\u001b[0;32m  10362\u001b[0m op \u001b[38;5;241m=\u001b[39m frame_apply(\n\u001b[0;32m  10363\u001b[0m     \u001b[38;5;28mself\u001b[39m,\n\u001b[0;32m  10364\u001b[0m     func\u001b[38;5;241m=\u001b[39mfunc,\n\u001b[1;32m   (...)\u001b[0m\n\u001b[0;32m  10372\u001b[0m     kwargs\u001b[38;5;241m=\u001b[39mkwargs,\n\u001b[0;32m  10373\u001b[0m )\n\u001b[1;32m> 10374\u001b[0m \u001b[38;5;28;01mreturn\u001b[39;00m \u001b[43mop\u001b[49m\u001b[38;5;241;43m.\u001b[39;49m\u001b[43mapply\u001b[49m\u001b[43m(\u001b[49m\u001b[43m)\u001b[49m\u001b[38;5;241m.\u001b[39m__finalize__(\u001b[38;5;28mself\u001b[39m, method\u001b[38;5;241m=\u001b[39m\u001b[38;5;124m\"\u001b[39m\u001b[38;5;124mapply\u001b[39m\u001b[38;5;124m\"\u001b[39m)\n",
      "File \u001b[1;32m~\\AppData\\Local\\Packages\\PythonSoftwareFoundation.Python.3.9_qbz5n2kfra8p0\\LocalCache\\local-packages\\Python39\\site-packages\\pandas\\core\\apply.py:916\u001b[0m, in \u001b[0;36mFrameApply.apply\u001b[1;34m(self)\u001b[0m\n\u001b[0;32m    913\u001b[0m \u001b[38;5;28;01melif\u001b[39;00m \u001b[38;5;28mself\u001b[39m\u001b[38;5;241m.\u001b[39mraw:\n\u001b[0;32m    914\u001b[0m     \u001b[38;5;28;01mreturn\u001b[39;00m \u001b[38;5;28mself\u001b[39m\u001b[38;5;241m.\u001b[39mapply_raw(engine\u001b[38;5;241m=\u001b[39m\u001b[38;5;28mself\u001b[39m\u001b[38;5;241m.\u001b[39mengine, engine_kwargs\u001b[38;5;241m=\u001b[39m\u001b[38;5;28mself\u001b[39m\u001b[38;5;241m.\u001b[39mengine_kwargs)\n\u001b[1;32m--> 916\u001b[0m \u001b[38;5;28;01mreturn\u001b[39;00m \u001b[38;5;28;43mself\u001b[39;49m\u001b[38;5;241;43m.\u001b[39;49m\u001b[43mapply_standard\u001b[49m\u001b[43m(\u001b[49m\u001b[43m)\u001b[49m\n",
      "File \u001b[1;32m~\\AppData\\Local\\Packages\\PythonSoftwareFoundation.Python.3.9_qbz5n2kfra8p0\\LocalCache\\local-packages\\Python39\\site-packages\\pandas\\core\\apply.py:1063\u001b[0m, in \u001b[0;36mFrameApply.apply_standard\u001b[1;34m(self)\u001b[0m\n\u001b[0;32m   1061\u001b[0m \u001b[38;5;28;01mdef\u001b[39;00m \u001b[38;5;21mapply_standard\u001b[39m(\u001b[38;5;28mself\u001b[39m):\n\u001b[0;32m   1062\u001b[0m     \u001b[38;5;28;01mif\u001b[39;00m \u001b[38;5;28mself\u001b[39m\u001b[38;5;241m.\u001b[39mengine \u001b[38;5;241m==\u001b[39m \u001b[38;5;124m\"\u001b[39m\u001b[38;5;124mpython\u001b[39m\u001b[38;5;124m\"\u001b[39m:\n\u001b[1;32m-> 1063\u001b[0m         results, res_index \u001b[38;5;241m=\u001b[39m \u001b[38;5;28;43mself\u001b[39;49m\u001b[38;5;241;43m.\u001b[39;49m\u001b[43mapply_series_generator\u001b[49m\u001b[43m(\u001b[49m\u001b[43m)\u001b[49m\n\u001b[0;32m   1064\u001b[0m     \u001b[38;5;28;01melse\u001b[39;00m:\n\u001b[0;32m   1065\u001b[0m         results, res_index \u001b[38;5;241m=\u001b[39m \u001b[38;5;28mself\u001b[39m\u001b[38;5;241m.\u001b[39mapply_series_numba()\n",
      "File \u001b[1;32m~\\AppData\\Local\\Packages\\PythonSoftwareFoundation.Python.3.9_qbz5n2kfra8p0\\LocalCache\\local-packages\\Python39\\site-packages\\pandas\\core\\apply.py:1081\u001b[0m, in \u001b[0;36mFrameApply.apply_series_generator\u001b[1;34m(self)\u001b[0m\n\u001b[0;32m   1078\u001b[0m \u001b[38;5;28;01mwith\u001b[39;00m option_context(\u001b[38;5;124m\"\u001b[39m\u001b[38;5;124mmode.chained_assignment\u001b[39m\u001b[38;5;124m\"\u001b[39m, \u001b[38;5;28;01mNone\u001b[39;00m):\n\u001b[0;32m   1079\u001b[0m     \u001b[38;5;28;01mfor\u001b[39;00m i, v \u001b[38;5;129;01min\u001b[39;00m \u001b[38;5;28menumerate\u001b[39m(series_gen):\n\u001b[0;32m   1080\u001b[0m         \u001b[38;5;66;03m# ignore SettingWithCopy here in case the user mutates\u001b[39;00m\n\u001b[1;32m-> 1081\u001b[0m         results[i] \u001b[38;5;241m=\u001b[39m \u001b[38;5;28mself\u001b[39m\u001b[38;5;241m.\u001b[39mfunc(v, \u001b[38;5;241m*\u001b[39m\u001b[38;5;28mself\u001b[39m\u001b[38;5;241m.\u001b[39margs, \u001b[38;5;241m*\u001b[39m\u001b[38;5;241m*\u001b[39m\u001b[38;5;28mself\u001b[39m\u001b[38;5;241m.\u001b[39mkwargs)\n\u001b[0;32m   1082\u001b[0m         \u001b[38;5;28;01mif\u001b[39;00m \u001b[38;5;28misinstance\u001b[39m(results[i], ABCSeries):\n\u001b[0;32m   1083\u001b[0m             \u001b[38;5;66;03m# If we have a view on v, we need to make a copy because\u001b[39;00m\n\u001b[0;32m   1084\u001b[0m             \u001b[38;5;66;03m#  series_generator will swap out the underlying data\u001b[39;00m\n\u001b[0;32m   1085\u001b[0m             results[i] \u001b[38;5;241m=\u001b[39m results[i]\u001b[38;5;241m.\u001b[39mcopy(deep\u001b[38;5;241m=\u001b[39m\u001b[38;5;28;01mFalse\u001b[39;00m)\n",
      "Cell \u001b[1;32mIn[45], line 5\u001b[0m, in \u001b[0;36m<lambda>\u001b[1;34m(row)\u001b[0m\n\u001b[0;32m      2\u001b[0m \u001b[38;5;28;01mfor\u001b[39;00m pre_col, post_col \u001b[38;5;129;01min\u001b[39;00m \u001b[38;5;28mzip\u001b[39m(pre_columns, post_columns):\n\u001b[0;32m      3\u001b[0m     \u001b[38;5;28mprint\u001b[39m(\u001b[38;5;124mf\u001b[39m\u001b[38;5;124m\"\u001b[39m\u001b[38;5;124mComparing performance for: \u001b[39m\u001b[38;5;132;01m{\u001b[39;00mpre_col\u001b[38;5;132;01m}\u001b[39;00m\u001b[38;5;124m → \u001b[39m\u001b[38;5;132;01m{\u001b[39;00mpost_col\u001b[38;5;132;01m}\u001b[39;00m\u001b[38;5;124m...\u001b[39m\u001b[38;5;124m\"\u001b[39m)\n\u001b[0;32m      4\u001b[0m     graded_df[\u001b[38;5;124mf\u001b[39m\u001b[38;5;124m\"\u001b[39m\u001b[38;5;132;01m{\u001b[39;00mpre_col\u001b[38;5;132;01m}\u001b[39;00m\u001b[38;5;124m_Performance\u001b[39m\u001b[38;5;124m\"\u001b[39m] \u001b[38;5;241m=\u001b[39m graded_df\u001b[38;5;241m.\u001b[39mapply(\n\u001b[1;32m----> 5\u001b[0m         \u001b[38;5;28;01mlambda\u001b[39;00m row: compare_performance(\u001b[43mrow\u001b[49m\u001b[43m[\u001b[49m\u001b[38;5;124;43mf\u001b[39;49m\u001b[38;5;124;43m\"\u001b[39;49m\u001b[38;5;132;43;01m{\u001b[39;49;00m\u001b[43mpre_col\u001b[49m\u001b[38;5;132;43;01m}\u001b[39;49;00m\u001b[38;5;124;43m_Grade\u001b[39;49m\u001b[38;5;124;43m\"\u001b[39;49m\u001b[43m]\u001b[49m, row[\u001b[38;5;124mf\u001b[39m\u001b[38;5;124m\"\u001b[39m\u001b[38;5;132;01m{\u001b[39;00mpost_col\u001b[38;5;132;01m}\u001b[39;00m\u001b[38;5;124m_Grade\u001b[39m\u001b[38;5;124m\"\u001b[39m]), axis\u001b[38;5;241m=\u001b[39m\u001b[38;5;241m1\u001b[39m\n\u001b[0;32m      6\u001b[0m     )\n",
      "File \u001b[1;32m~\\AppData\\Local\\Packages\\PythonSoftwareFoundation.Python.3.9_qbz5n2kfra8p0\\LocalCache\\local-packages\\Python39\\site-packages\\pandas\\core\\series.py:1121\u001b[0m, in \u001b[0;36mSeries.__getitem__\u001b[1;34m(self, key)\u001b[0m\n\u001b[0;32m   1118\u001b[0m     \u001b[38;5;28;01mreturn\u001b[39;00m \u001b[38;5;28mself\u001b[39m\u001b[38;5;241m.\u001b[39m_values[key]\n\u001b[0;32m   1120\u001b[0m \u001b[38;5;28;01melif\u001b[39;00m key_is_scalar:\n\u001b[1;32m-> 1121\u001b[0m     \u001b[38;5;28;01mreturn\u001b[39;00m \u001b[38;5;28;43mself\u001b[39;49m\u001b[38;5;241;43m.\u001b[39;49m\u001b[43m_get_value\u001b[49m\u001b[43m(\u001b[49m\u001b[43mkey\u001b[49m\u001b[43m)\u001b[49m\n\u001b[0;32m   1123\u001b[0m \u001b[38;5;66;03m# Convert generator to list before going through hashable part\u001b[39;00m\n\u001b[0;32m   1124\u001b[0m \u001b[38;5;66;03m# (We will iterate through the generator there to check for slices)\u001b[39;00m\n\u001b[0;32m   1125\u001b[0m \u001b[38;5;28;01mif\u001b[39;00m is_iterator(key):\n",
      "File \u001b[1;32m~\\AppData\\Local\\Packages\\PythonSoftwareFoundation.Python.3.9_qbz5n2kfra8p0\\LocalCache\\local-packages\\Python39\\site-packages\\pandas\\core\\series.py:1237\u001b[0m, in \u001b[0;36mSeries._get_value\u001b[1;34m(self, label, takeable)\u001b[0m\n\u001b[0;32m   1234\u001b[0m     \u001b[38;5;28;01mreturn\u001b[39;00m \u001b[38;5;28mself\u001b[39m\u001b[38;5;241m.\u001b[39m_values[label]\n\u001b[0;32m   1236\u001b[0m \u001b[38;5;66;03m# Similar to Index.get_value, but we do not fall back to positional\u001b[39;00m\n\u001b[1;32m-> 1237\u001b[0m loc \u001b[38;5;241m=\u001b[39m \u001b[38;5;28;43mself\u001b[39;49m\u001b[38;5;241;43m.\u001b[39;49m\u001b[43mindex\u001b[49m\u001b[38;5;241;43m.\u001b[39;49m\u001b[43mget_loc\u001b[49m\u001b[43m(\u001b[49m\u001b[43mlabel\u001b[49m\u001b[43m)\u001b[49m\n\u001b[0;32m   1239\u001b[0m \u001b[38;5;28;01mif\u001b[39;00m is_integer(loc):\n\u001b[0;32m   1240\u001b[0m     \u001b[38;5;28;01mreturn\u001b[39;00m \u001b[38;5;28mself\u001b[39m\u001b[38;5;241m.\u001b[39m_values[loc]\n",
      "File \u001b[1;32m~\\AppData\\Local\\Packages\\PythonSoftwareFoundation.Python.3.9_qbz5n2kfra8p0\\LocalCache\\local-packages\\Python39\\site-packages\\pandas\\core\\indexes\\base.py:3812\u001b[0m, in \u001b[0;36mIndex.get_loc\u001b[1;34m(self, key)\u001b[0m\n\u001b[0;32m   3807\u001b[0m     \u001b[38;5;28;01mif\u001b[39;00m \u001b[38;5;28misinstance\u001b[39m(casted_key, \u001b[38;5;28mslice\u001b[39m) \u001b[38;5;129;01mor\u001b[39;00m (\n\u001b[0;32m   3808\u001b[0m         \u001b[38;5;28misinstance\u001b[39m(casted_key, abc\u001b[38;5;241m.\u001b[39mIterable)\n\u001b[0;32m   3809\u001b[0m         \u001b[38;5;129;01mand\u001b[39;00m \u001b[38;5;28many\u001b[39m(\u001b[38;5;28misinstance\u001b[39m(x, \u001b[38;5;28mslice\u001b[39m) \u001b[38;5;28;01mfor\u001b[39;00m x \u001b[38;5;129;01min\u001b[39;00m casted_key)\n\u001b[0;32m   3810\u001b[0m     ):\n\u001b[0;32m   3811\u001b[0m         \u001b[38;5;28;01mraise\u001b[39;00m InvalidIndexError(key)\n\u001b[1;32m-> 3812\u001b[0m     \u001b[38;5;28;01mraise\u001b[39;00m \u001b[38;5;167;01mKeyError\u001b[39;00m(key) \u001b[38;5;28;01mfrom\u001b[39;00m \u001b[38;5;21;01merr\u001b[39;00m\n\u001b[0;32m   3813\u001b[0m \u001b[38;5;28;01mexcept\u001b[39;00m \u001b[38;5;167;01mTypeError\u001b[39;00m:\n\u001b[0;32m   3814\u001b[0m     \u001b[38;5;66;03m# If we have a listlike key, _check_indexing_error will raise\u001b[39;00m\n\u001b[0;32m   3815\u001b[0m     \u001b[38;5;66;03m#  InvalidIndexError. Otherwise we fall through and re-raise\u001b[39;00m\n\u001b[0;32m   3816\u001b[0m     \u001b[38;5;66;03m#  the TypeError.\u001b[39;00m\n\u001b[0;32m   3817\u001b[0m     \u001b[38;5;28mself\u001b[39m\u001b[38;5;241m.\u001b[39m_check_indexing_error(key)\n",
      "\u001b[1;31mKeyError\u001b[0m: 'For what purposes can tools like Tableau, Power BI, or Python libraries be used in persona development? (pre)_Grade'"
     ]
    }
   ],
   "source": [
    "# Compare pre/post survey responses only for selected columns (Performance: IMPROVED, SAME, DECLINED)\n",
    "for pre_col, post_col in zip(pre_columns, post_columns):\n",
    "    print(f\"Comparing performance for: {pre_col} → {post_col}...\")\n",
    "    graded_df[f\"{pre_col}_Performance\"] = graded_df.apply(\n",
    "        lambda row: compare_performance(row[f\"{pre_col}_Grade\"], row[f\"{post_col}_Grade\"]), axis=1\n",
    "    )\n"
   ]
  },
  {
   "cell_type": "code",
   "execution_count": null,
   "metadata": {},
   "outputs": [],
   "source": [
    "# Save the graded responses\n",
    "output_file = \"survey_with_grades.csv\"\n",
    "graded_df.to_csv(output_file, index=False)\n",
    "print(f\"Graded responses saved to {output_file}\")"
   ]
  },
  {
   "cell_type": "code",
   "execution_count": null,
   "metadata": {},
   "outputs": [],
   "source": []
  },
  {
   "cell_type": "code",
   "execution_count": null,
   "metadata": {},
   "outputs": [],
   "source": []
  },
  {
   "cell_type": "code",
   "execution_count": null,
   "metadata": {},
   "outputs": [],
   "source": []
  },
  {
   "cell_type": "code",
   "execution_count": null,
   "metadata": {},
   "outputs": [],
   "source": [
    "\n",
    "\n",
    "# Manually specify which columns belong to pre-survey and post-survey\n",
    "pre_columns = [\"column_1_pre\", \"column_2_pre\", \"column_3_pre\"]  # Replace with actual pre-survey column names\n",
    "post_columns = [\"column_1_post\", \"column_2_post\", \"column_3_post\"]  # Replace with corresponding post-survey column names\n",
    "\n",
    "graded_df = df.copy()  # Create a new DataFrame to store graded responses\n",
    "\n",
    "# Ensure the length of both lists match\n",
    "if len(pre_columns) != len(post_columns):\n",
    "    raise ValueError(\"Pre-survey and post-survey column lists must have the same length.\")\n",
    "\n",
    "# Loop through each pre/post column pair\n",
    "for pre_col, post_col in zip(pre_columns, post_columns):\n",
    "    # Extract the question from column name\n",
    "    question = pre_col.replace(\"_\", \" \").title()  # Convert column name to a readable question\n",
    "\n",
    "    print(f\"Grading responses for: {question}...\")\n",
    "\n",
    "    # Grade pre-survey responses\n",
    "    graded_df[f\"{pre_col}_Grade\"] = df[pre_col].astype(str).apply(lambda response: grade_answer(question, response))\n",
    "\n",
    "    # Grade post-survey responses\n",
    "    graded_df[f\"{post_col}_Grade\"] = df[post_col].astype(str).apply(lambda response: grade_answer(question, response))\n",
    "\n",
    "    # Compare pre/post grades to determine performance change\n",
    "    graded_df[f\"{pre_col}_Performance\"] = graded_df.apply(\n",
    "        lambda row: compare_performance(row[f\"{pre_col}_Grade\"], row[f\"{post_col}_Grade\"]), axis=1\n",
    "    )\n",
    "\n",
    "# Save the graded responses\n",
    "output_file = \"survey_with_grades.csv\"\n",
    "graded_df.to_csv(output_file, index=False)\n",
    "print(f\"Graded responses saved to {output_file}\")\n"
   ]
  }
 ],
 "metadata": {
  "kernelspec": {
   "display_name": "Python 3",
   "language": "python",
   "name": "python3"
  },
  "language_info": {
   "codemirror_mode": {
    "name": "ipython",
    "version": 3
   },
   "file_extension": ".py",
   "mimetype": "text/x-python",
   "name": "python",
   "nbconvert_exporter": "python",
   "pygments_lexer": "ipython3",
   "version": "3.9.13"
  }
 },
 "nbformat": 4,
 "nbformat_minor": 2
}
